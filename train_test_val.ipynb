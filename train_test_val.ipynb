{
 "cells": [
  {
   "cell_type": "markdown",
   "metadata": {},
   "source": [
    "import pandas as pd\n",
    "import os\n",
    "import shutil\n",
    "from sklearn.model_selection import train_test_split"
   ]
  },
  {
   "cell_type": "code",
   "execution_count": 2,
   "metadata": {},
   "outputs": [],
   "source": [
    "import pandas as pd\n",
    "\n",
    "# Загрузка данных\n",
    "data = pd.read_csv('minerals_10_clean.csv')\n",
    "\n",
    "# Проверка на пропуски в столбце 'ru_discription' и отправка строк с пропусками в выборку test\n",
    "test_data = data[data['ru_description'].isna()]\n",
    "\n",
    "# Удаление строк с пропусками из основного датасета\n",
    "data = data.dropna(subset=['ru_description'])\n",
    "\n",
    "# Сохранение test в файл 'test.csv'\n",
    "test_data.to_csv('test.csv', index=False)"
   ]
  },
  {
   "cell_type": "code",
   "execution_count": null,
   "metadata": {},
   "outputs": [],
   "source": [
    "# Загружаем файл minerals_10_clean_updated.csv\n",
    "data_path = 'minerals_10_clean.csv'\n",
    "data_df = pd.read_csv(data_path)\n",
    "\n",
    "# Создаем новую директорию, в которой будут папки для каждого минерала\n",
    "new_directory = 'mineral_images'\n",
    "if not os.path.exists(new_directory):\n",
    "    os.makedirs(new_directory)\n",
    "\n",
    "# Создаем папки для каждого минерала и перемещаем изображения в соответствующие папки\n",
    "for idx, row in data_df.iterrows():\n",
    "    mineral_name = row['en_name']\n",
    "    image_path = row['path']\n",
    "    \n",
    "    # Проверяем существует ли папка для текущего минерала, если нет - создаем\n",
    "    mineral_folder = os.path.join(new_directory, mineral_name)\n",
    "    if not os.path.exists(mineral_folder):\n",
    "        os.makedirs(mineral_folder)\n",
    "    \n",
    "    # Получаем имя файла изображения\n",
    "    image_filename = os.path.basename(image_path)\n",
    "    \n",
    "    # Формируем новый путь для изображения внутри папки минерала\n",
    "    new_image_path = os.path.join(mineral_folder, image_filename)\n",
    "    \n",
    "    # Перемещаем изображение в папку минерала\n",
    "    shutil.move(image_path, new_image_path)\n",
    "    \n",
    "    # Обновляем путь в DataFrame\n",
    "    data_df.at[idx, 'path'] = new_image_path\n",
    "\n",
    "# Сохраняем обновленный DataFrame обратно в файл\n",
    "updated_data_path = 'minerals_10_clean_updated_with_folders.csv'\n",
    "data_df.to_csv(updated_data_path, index=False)"
   ]
  },
  {
   "cell_type": "code",
   "execution_count": 3,
   "metadata": {},
   "outputs": [],
   "source": [
    "# Загрузка данных\n",
    "data = pd.read_csv('minerals_10_clean_updated_with_folders.csv')\n",
    "\n",
    "# Удаление строк с пропусками в столбце 'en_description'\n",
    "data_cleaned = data.dropna(subset=['en_description'])\n",
    "\n",
    "# Разделение данных на train и (test + val)\n",
    "train_data, test_val_data = train_test_split(data_cleaned, test_size=0.3, random_state=42)\n",
    "\n",
    "# Разделение (test + val) на test и val\n",
    "test_data, val_data = train_test_split(test_val_data, test_size=0.33, random_state=42)\n",
    "\n",
    "# Сохранение в файлы\n",
    "train_data.to_csv('train.csv', index=False)\n",
    "test_data.to_csv('test.csv', index=False)\n",
    "val_data.to_csv('val.csv', index=False)"
   ]
  }
 ],
 "metadata": {
  "kernelspec": {
   "display_name": "Python 3",
   "language": "python",
   "name": "python3"
  },
  "language_info": {
   "codemirror_mode": {
    "name": "ipython",
    "version": 3
   },
   "file_extension": ".py",
   "mimetype": "text/x-python",
   "name": "python",
   "nbconvert_exporter": "python",
   "pygments_lexer": "ipython3",
   "version": "3.10.11"
  }
 },
 "nbformat": 4,
 "nbformat_minor": 2
}
